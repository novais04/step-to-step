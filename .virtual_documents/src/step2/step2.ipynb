import numpy  as np


# exemplo 01
# Import Packages
import numpy as np

# create rank 1 array 
a = np.array([0, 1, 2])
print(type(a))

# this will print the dimension of the array
print(a.shape)
print(a[0])
print(a[1])
print(a[2])

# Chamnge element of the array
a[0] = 5
print(a)



# Exemplo 02


# create rank 2 array
b = np.array([[0, 1, 2],[3, 4, 5]])
print(b.shape)
print(b)
print(b[0,0], b[0,1],b[1,0])


# Create a 3x3 array of all zeros

import numpy as np

a = np.zeros((3,3))
print(a)


# Create a 2x2 array of all ones

b = np.ones((2,2))
print(b)


# # Create a 3x3 constant array

c = np.full((3,3), 7)
print(c)


# Create a 3x3 array filled with random values

d = np.random.random((3,3))
print(d)


# Create a 3x3 identity matrix
e = np.eye(3)
print(e)


# convert list to array
lista = [2, 3, 1, 0]
print(f"Isto é um lista {lista}")
f = np.array(lista)
print(f"Isto é uma array: \n {f}")


# arange() will create arrays with regularly incrementing values
g = np.arange(0, 20, 2) # star, stop, increment
print(g)


# note mix of tuple and lists
h = np.array([[0, 1, 2.0], [0, 0, 0], (1+1j,3., 2)])
print(h)


# create an array of range with float data type
i = np.arange(1, 8, dtype=np.float16)
print(i)


j = np.linspace(2., 4., 5) 
print(j)


k = np.indices((2,2))
print(k)


x = np.array([0 ,1 ])
y = np.array([2.0, 3.0])
print(f"{x}\n{y}")


z = np.array([5, 6], np.float64)
print(z)


print(x.dtype, y.dtype, z.dtype)


x = np.zeros((3,3), dtype=[('a', np.int32), ('b', np.float32, (3,3))])



print(f"x['a'].shape: {x['a'].shape}")
print(f"x['a'].dtype: {x['a'].dtype}")
print(f"x['b'].shape: {x['a'].shape}")
print(f"x['a'].dtype: {x['a'].dtype}")


x = np.array([5, 6, 7, 8, 9])
print(x)
print(x[1:7:2])


print(x[-2:5])
print(x[-1:1:-1])


print(x[4:])


y = np.array([[[1],[2], [3]], [[4], [5], [6]]])
print(f"Shape de y: {y.shape}")
y[1:3]


x[...,0]


# Create a rank 2 array with shape (3, 4)
a = np.array([[5, 6, 7, 8], [1, 2, 3, 4], [9, 10, 11, 12] ])
print(f"Array a: \n{a}")


b = a[:2,1:3]
print(b)


print(a[0,1])   #  6
b[0,0] = 77
print(b[0,0])


row_r1 = a[1,:] # Rank 1 da segunda linha de um
row_r2 = a[1:2] # Rank 2 da segunda fileira de um
print(f"{row_r1}, {row_r1.shape}") # Prints "[5 6 7 8] (4,)"
print(f"{row_r2}, {row_r2.shape}") # Prints "[5 6 7 8] (1,4)"


col_r1 = a[:,1]
col_r2 = a[:,1:2]
print(f"{col_r1}, {col_r1.shape}")
print(f"\n{col_r2}, {col_r2.shape}")


a



