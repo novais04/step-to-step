{
 "cells": [
  {
   "cell_type": "markdown",
   "id": "d79794f7-02b3-4e10-b087-318da95cbe00",
   "metadata": {},
   "source": [
    "# Python to Data Science"
   ]
  },
  {
   "cell_type": "markdown",
   "id": "d8c21daf-15b1-4865-ba2d-f6756c2d9e97",
   "metadata": {
    "tags": []
   },
   "source": [
    "# Numpy\n",
    "\n",
    "NumPy é a biblioteca principal para computação científica em Python. Fornece um objecto de matriz multidimensional de alto desempenho e ferramentas para trabalhar com estas matrizes. É um sucessor do pacote numérico. Em 2005, Travis Oliphant criou o NumPy incorporando recursos do Numarray concorrente no Numeric, com extensas modificações. Eu acho que os conceitos e os exemplos de código em grande medida foram explicados da forma mais simples em seu livro Guide to NumPy. Aqui, só veremos alguns dos principais conceitos do NumPy que são obrigatórios ou bons de se conhecer em relevância para o aprendizado de máquina.\n"
   ]
  },
  {
   "cell_type": "markdown",
   "id": "2f0b6c2d-198a-4498-9942-e9d9c7ea40fb",
   "metadata": {},
   "source": [
    "### Import Packegers"
   ]
  },
  {
   "cell_type": "code",
   "execution_count": 4,
   "id": "ef69f7aa-d643-4dd5-b102-58d43dd02553",
   "metadata": {
    "tags": []
   },
   "outputs": [],
   "source": [
    "import numpy  as np"
   ]
  },
  {
   "cell_type": "markdown",
   "id": "b6138bbb-9a7f-42a8-a585-0492a9ea3d1d",
   "metadata": {
    "tags": []
   },
   "source": [
    "## Initializing NumPy array"
   ]
  },
  {
   "cell_type": "code",
   "execution_count": 4,
   "id": "47e09ed6-b487-4f9d-922a-3cf94e1f237d",
   "metadata": {
    "tags": []
   },
   "outputs": [
    {
     "name": "stdout",
     "output_type": "stream",
     "text": [
      "<class 'numpy.ndarray'>\n",
      "(3,)\n",
      "0\n",
      "1\n",
      "2\n",
      "[5 1 2]\n"
     ]
    }
   ],
   "source": [
    "# exemplo 01\n",
    "# Import Packages\n",
    "import numpy as np\n",
    "\n",
    "# create rank 1 array \n",
    "a = np.array([0, 1, 2])\n",
    "print(type(a))\n",
    "\n",
    "# this will print the dimension of the array\n",
    "print(a.shape)\n",
    "print(a[0])\n",
    "print(a[1])\n",
    "print(a[2])\n",
    "\n",
    "# Chamnge element of the array\n",
    "a[0] = 5\n",
    "print(a)\n"
   ]
  },
  {
   "cell_type": "code",
   "execution_count": 5,
   "id": "bdd154ca-d981-4aea-8fd7-1d434cc1862a",
   "metadata": {
    "tags": []
   },
   "outputs": [
    {
     "name": "stdout",
     "output_type": "stream",
     "text": [
      "(2, 3)\n",
      "[[0 1 2]\n",
      " [3 4 5]]\n",
      "0 1 3\n"
     ]
    }
   ],
   "source": [
    "# Exemplo 02\n",
    "\n",
    "\n",
    "# create rank 2 array\n",
    "b = np.array([[0, 1, 2],[3, 4, 5]])\n",
    "print(b.shape)\n",
    "print(b)\n",
    "print(b[0,0], b[0,1],b[1,0])"
   ]
  },
  {
   "cell_type": "markdown",
   "id": "71c2d831-1239-49bb-98fb-971c7af9a286",
   "metadata": {
    "tags": []
   },
   "source": [
    "## Creating NumPy Array\n",
    "\n",
    "\n",
    "O NumPy também fornece muitas funções incorporadas para criar matrizes. A melhor maneira de aprender isto é através de exemplos, por isso vamos saltar para o código. Consulte a Listagem 2-2.\n"
   ]
  },
  {
   "cell_type": "code",
   "execution_count": 2,
   "id": "d279282e-13a8-4bfd-9041-7101d21e5f76",
   "metadata": {
    "tags": []
   },
   "outputs": [
    {
     "name": "stdout",
     "output_type": "stream",
     "text": [
      "[[0. 0. 0.]\n",
      " [0. 0. 0.]\n",
      " [0. 0. 0.]]\n"
     ]
    }
   ],
   "source": [
    "# Create a 3x3 array of all zeros\n",
    "\n",
    "import numpy as np\n",
    "\n",
    "a = np.zeros((3,3))\n",
    "print(a)"
   ]
  },
  {
   "cell_type": "code",
   "execution_count": 9,
   "id": "7be7abcf-d759-4c4c-98c3-17282d381bef",
   "metadata": {
    "tags": []
   },
   "outputs": [
    {
     "name": "stdout",
     "output_type": "stream",
     "text": [
      "[[1. 1.]\n",
      " [1. 1.]]\n"
     ]
    }
   ],
   "source": [
    "# Create a 2x2 array of all ones\n",
    "\n",
    "b = np.ones((2,2))\n",
    "print(b)"
   ]
  },
  {
   "cell_type": "code",
   "execution_count": 11,
   "id": "edc8a1b7-0a7e-4f89-b0f0-94e1c0207e4a",
   "metadata": {
    "tags": []
   },
   "outputs": [
    {
     "name": "stdout",
     "output_type": "stream",
     "text": [
      "[[7 7 7]\n",
      " [7 7 7]\n",
      " [7 7 7]]\n"
     ]
    }
   ],
   "source": [
    "# # Create a 3x3 constant array\n",
    "\n",
    "c = np.full((3,3), 7)\n",
    "print(c)"
   ]
  },
  {
   "cell_type": "code",
   "execution_count": 12,
   "id": "57b2e923-7c2f-4cd1-8879-cbdc3d19a60f",
   "metadata": {
    "tags": []
   },
   "outputs": [
    {
     "name": "stdout",
     "output_type": "stream",
     "text": [
      "[[0.12073366 0.77854321 0.11679844]\n",
      " [0.21683557 0.31582511 0.89417448]\n",
      " [0.05558319 0.65382335 0.68298977]]\n"
     ]
    }
   ],
   "source": [
    "# Create a 3x3 array filled with random values\n",
    "\n",
    "d = np.random.random((3,3))\n",
    "print(d)"
   ]
  },
  {
   "cell_type": "code",
   "execution_count": 8,
   "id": "a0f6e13a-a543-4e19-9cb4-fb4fa8d5ffba",
   "metadata": {},
   "outputs": [
    {
     "name": "stdout",
     "output_type": "stream",
     "text": [
      "[[1. 0. 0.]\n",
      " [0. 1. 0.]\n",
      " [0. 0. 1.]]\n"
     ]
    }
   ],
   "source": [
    "# Create a 3x3 identity matrix\n",
    "e = np.eye(3)\n",
    "print(e)"
   ]
  },
  {
   "cell_type": "code",
   "execution_count": 14,
   "id": "1e6560bc-35d7-48c1-b0eb-0ce569f6c168",
   "metadata": {
    "tags": []
   },
   "outputs": [
    {
     "name": "stdout",
     "output_type": "stream",
     "text": [
      "Isto é um lista [2, 3, 1, 0]\n",
      "Isto é uma array: \n",
      " [2 3 1 0]\n"
     ]
    }
   ],
   "source": [
    "# convert list to array\n",
    "lista = [2, 3, 1, 0]\n",
    "print(f\"Isto é um lista {lista}\")\n",
    "f = np.array(lista)\n",
    "print(f\"Isto é uma array: \\n {f}\")"
   ]
  },
  {
   "cell_type": "code",
   "execution_count": 20,
   "id": "ee873782-ecab-4325-ac53-70e41b7a6685",
   "metadata": {
    "tags": []
   },
   "outputs": [
    {
     "name": "stdout",
     "output_type": "stream",
     "text": [
      "[ 0  2  4  6  8 10 12 14 16 18]\n"
     ]
    }
   ],
   "source": [
    "# arange() will create arrays with regularly incrementing values\n",
    "g = np.arange(0, 20, 2) # star, stop, increment\n",
    "print(g)"
   ]
  },
  {
   "cell_type": "code",
   "execution_count": 24,
   "id": "836207a2-e652-4556-8dd2-c3d68318b4e7",
   "metadata": {
    "tags": []
   },
   "outputs": [
    {
     "name": "stdout",
     "output_type": "stream",
     "text": [
      "[[0.+0.j 1.+0.j 2.+0.j]\n",
      " [0.+0.j 0.+0.j 0.+0.j]\n",
      " [1.+1.j 3.+0.j 2.+0.j]]\n"
     ]
    }
   ],
   "source": [
    "# note mix of tuple and lists\n",
    "h = np.array([[0, 1, 2.0], [0, 0, 0], (1+1j,3., 2)])\n",
    "print(h)"
   ]
  },
  {
   "cell_type": "code",
   "execution_count": 27,
   "id": "110b2c54-4f6a-47e2-ba8d-db84c9b08457",
   "metadata": {
    "tags": []
   },
   "outputs": [
    {
     "name": "stdout",
     "output_type": "stream",
     "text": [
      "[1. 2. 3. 4. 5. 6. 7.]\n"
     ]
    }
   ],
   "source": [
    "# create an array of range with float data type\n",
    "i = np.arange(1, 8, dtype=np.float16)\n",
    "print(i)"
   ]
  },
  {
   "cell_type": "markdown",
   "id": "0f3a4b16-2217-4349-aa8c-2c64b074679f",
   "metadata": {},
   "source": [
    "### `linspace()`\n",
    "criará matrizes com um número especificado de itens que são\n",
    "__espacádos__ igualmente entre os valores iniciais e finais especificados\n"
   ]
  },
  {
   "cell_type": "code",
   "execution_count": 30,
   "id": "be24222c-9c2f-4992-904d-b72f30cc0e56",
   "metadata": {
    "tags": []
   },
   "outputs": [
    {
     "name": "stdout",
     "output_type": "stream",
     "text": [
      "[2.  2.5 3.  3.5 4. ]\n"
     ]
    }
   ],
   "source": [
    "j = np.linspace(2., 4., 5) \n",
    "print(j)"
   ]
  },
  {
   "cell_type": "markdown",
   "id": "e6155dbb-0b1e-425f-b086-f16da4318046",
   "metadata": {},
   "source": [
    "### `Indices()`\n",
    "\n",
    "criará um conjunto de matrizes empilhadas como uma matriz dimensionada  mais alta, uma por dimensão, com cada uma representando variação nessa dimensão"
   ]
  },
  {
   "cell_type": "code",
   "execution_count": 32,
   "id": "27b16bc3-dda3-4f10-9073-910030c220bc",
   "metadata": {
    "tags": []
   },
   "outputs": [
    {
     "name": "stdout",
     "output_type": "stream",
     "text": [
      "[[[0 0]\n",
      "  [1 1]]\n",
      "\n",
      " [[0 1]\n",
      "  [0 1]]]\n"
     ]
    }
   ],
   "source": [
    "k = np.indices((2,2))\n",
    "print(k)"
   ]
  },
  {
   "cell_type": "markdown",
   "id": "05aaf4af-9e8a-405d-adba-f7985268e7ec",
   "metadata": {},
   "source": [
    "# Data Types\n",
    "\n",
    "Uma matriz (array) é uma coleção de itens do mesmo tipo de dados e o NumPy suporta e fornece funções internas para construir matrizes com argumentos opcionais para especificar explicitamente os tipos de dados necessários."
   ]
  },
  {
   "cell_type": "markdown",
   "id": "33a8e560-d2af-4db4-acfa-105840070a98",
   "metadata": {},
   "source": [
    "### Let numpy choose the datatype"
   ]
  },
  {
   "cell_type": "code",
   "execution_count": 38,
   "id": "7465d76d-5eea-49cd-b7f8-aa8d32100db1",
   "metadata": {
    "tags": []
   },
   "outputs": [
    {
     "name": "stdout",
     "output_type": "stream",
     "text": [
      "[0 1]\n",
      "[2. 3.]\n"
     ]
    }
   ],
   "source": [
    "x = np.array([0 ,1 ])\n",
    "y = np.array([2.0, 3.0])\n",
    "print(f\"{x}\\n{y}\")"
   ]
  },
  {
   "cell_type": "markdown",
   "id": "e4264437-f524-48e7-9534-0143b9aa8be7",
   "metadata": {},
   "source": [
    "### Force a particular datatype"
   ]
  },
  {
   "cell_type": "code",
   "execution_count": 37,
   "id": "f1092e9a-9366-49c4-bef3-133001a2095b",
   "metadata": {
    "tags": []
   },
   "outputs": [
    {
     "name": "stdout",
     "output_type": "stream",
     "text": [
      "[5. 6.]\n"
     ]
    }
   ],
   "source": [
    "z = np.array([5, 6], np.float64)\n",
    "print(z)"
   ]
  },
  {
   "cell_type": "code",
   "execution_count": 41,
   "id": "b12bec85-7f56-4464-b3b2-c2e044c619d4",
   "metadata": {
    "tags": []
   },
   "outputs": [
    {
     "name": "stdout",
     "output_type": "stream",
     "text": [
      "int64 float64 float64\n"
     ]
    }
   ],
   "source": [
    "print(x.dtype, y.dtype, z.dtype)"
   ]
  },
  {
   "cell_type": "markdown",
   "id": "55ee1cb2-a302-497f-bc8f-0f3f2678c6ab",
   "metadata": {},
   "source": [
    "## Array Indexing\n",
    "\n",
    "O NumPy oferece várias maneiras de indexar em matrizes. A sintaxe padrão do Python `x[obj]` pode ser usada para indexar a matriz NumPy, onde x é a matriz e obj é a seleção. Existem três tipos de indexação disponíveis: \n",
    "\n",
    "* Acesso de campo \n",
    "* Slicing básico \n",
    "* Indexação avançada"
   ]
  },
  {
   "cell_type": "markdown",
   "id": "d5be9cec-04a3-4578-966f-2c161b6506c0",
   "metadata": {},
   "source": [
    "### Field Access (acesso de campos)\n",
    "\n",
    "Se o objeto ndarray é um array estruturado, os campos do array podem ser acessados indexando o array como strings, dicionário. Indexação `x['nome do campo']` retorna uma nova exibição para a matriz, que é da mesma forma que x, exceto quando o campo é um sub-terreno, mas de tipo de dados `x.dtype['nome do campo']` e contém apenas a parte dos dados no campo especificado"
   ]
  },
  {
   "cell_type": "code",
   "execution_count": 48,
   "id": "c69bffe9-d0a4-447e-a3b9-c0da1511cc82",
   "metadata": {
    "tags": []
   },
   "outputs": [],
   "source": [
    "x = np.zeros((3,3), dtype=[('a', np.int32), ('b', np.float32, (3,3))])\n"
   ]
  },
  {
   "cell_type": "code",
   "execution_count": 56,
   "id": "ff71bf3c-5d2d-4444-a53a-ef108636adfb",
   "metadata": {
    "tags": []
   },
   "outputs": [
    {
     "name": "stdout",
     "output_type": "stream",
     "text": [
      "x['a'].shape: (3, 3)\n",
      "x['a'].dtype: int32\n",
      "x['b'].shape: (3, 3)\n",
      "x['a'].dtype: int32\n"
     ]
    }
   ],
   "source": [
    "print(f\"x['a'].shape: {x['a'].shape}\")\n",
    "print(f\"x['a'].dtype: {x['a'].dtype}\")\n",
    "print(f\"x['b'].shape: {x['a'].shape}\")\n",
    "print(f\"x['a'].dtype: {x['a'].dtype}\")"
   ]
  },
  {
   "cell_type": "markdown",
   "id": "0f9ae489-67a9-4cf9-a9af-64856ab23bf5",
   "metadata": {},
   "source": [
    "### Basic Slicing (Slicing básico )\n",
    "\n",
    "As matrizes NumPy podem ser fatiadas, semelhantes às listas. Você deve especificar uma fatia para cada dimensão da matriz, pois as matrizes podem ser multidimensionais. A sintaxe básica da fatia é i: j: k, onde i é o índice inicial, j é o índice de parada e k é o passo e k não é igual a 0. Isso seleciona os elementos m na dimensão correspondente, com valores de índice i, i + k, ...,i + (m - 1) k onde m = q + (r não igual a 0) e q e r são o quociente e o restante é obtido dividindo j - i por k: j - i = q k + r, de modo que i + (m - 1) k < j"
   ]
  },
  {
   "cell_type": "code",
   "execution_count": 84,
   "id": "6b617e1d-28e5-4ec4-8b56-b25c365b8938",
   "metadata": {
    "tags": []
   },
   "outputs": [
    {
     "name": "stdout",
     "output_type": "stream",
     "text": [
      "[5 6 7 8 9]\n",
      "[6 8]\n"
     ]
    }
   ],
   "source": [
    "x = np.array([5, 6, 7, 8, 9])\n",
    "print(x)\n",
    "print(x[1:7:2])"
   ]
  },
  {
   "cell_type": "markdown",
   "id": "b3508c87-63e0-4f3d-860a-d9fb2fe8bad7",
   "metadata": {},
   "source": [
    "O k negativo faz com que o passo vá em direção a índices menores. Negativo i e j são interpretados como n + i e n + j, onde n é o número de elementos na dimensão correspondente."
   ]
  },
  {
   "cell_type": "code",
   "execution_count": 69,
   "id": "351c0a7f-05af-4a03-97d9-5e1d4fb393d7",
   "metadata": {
    "tags": []
   },
   "outputs": [
    {
     "name": "stdout",
     "output_type": "stream",
     "text": [
      "[8 9]\n",
      "[9 8 7]\n"
     ]
    }
   ],
   "source": [
    "print(x[-2:5])\n",
    "print(x[-1:1:-1])"
   ]
  },
  {
   "cell_type": "markdown",
   "id": "2a3460a2-98ff-4d7f-ac3d-223f11ef9ed7",
   "metadata": {},
   "source": [
    "Se __n__ é o número de itens na dimensão que estão sendo cortados. Então, se não for dado, o padrão é __0__ para __k > 0__ e __n - 1__ para __k < 0__. Se __j__ não for fornecido, o padrão é __n__ para __k > 0__ e __-1__ para __k < 0__. Se __k__ não for fornecido, o padrão é __1__. Observe que :: é o mesmo que : e significa selecionar todos os índices ao longo deste eixo. "
   ]
  },
  {
   "cell_type": "code",
   "execution_count": 70,
   "id": "7c85355f-1e0b-4475-ae3b-f358e0182555",
   "metadata": {
    "tags": []
   },
   "outputs": [
    {
     "name": "stdout",
     "output_type": "stream",
     "text": [
      "[9]\n"
     ]
    }
   ],
   "source": [
    "print(x[4:])"
   ]
  },
  {
   "cell_type": "markdown",
   "id": "bc0b26b6-f0f2-4b85-a1b0-80b752e0739e",
   "metadata": {},
   "source": [
    "Se o número de objetos na tupla de seleção for menor que N, então : é assumido para quaisquer dimensões subsequentes."
   ]
  },
  {
   "cell_type": "code",
   "execution_count": 77,
   "id": "e6c6082f-9fc0-442b-82c8-41ae9b24a6b0",
   "metadata": {
    "tags": []
   },
   "outputs": [
    {
     "name": "stdout",
     "output_type": "stream",
     "text": [
      "Shape de y: (2, 3, 1)\n"
     ]
    },
    {
     "data": {
      "text/plain": [
       "array([[[4],\n",
       "        [5],\n",
       "        [6]]])"
      ]
     },
     "execution_count": 77,
     "metadata": {},
     "output_type": "execute_result"
    }
   ],
   "source": [
    "y = np.array([[[1],[2], [3]], [[4], [5], [6]]])\n",
    "print(f\"Shape de y: {y.shape}\")\n",
    "y[1:3]"
   ]
  },
  {
   "cell_type": "markdown",
   "id": "e6329524-d821-4107-94f5-9be1709412e8",
   "metadata": {},
   "source": [
    "As reticências se expandem para o número de: objetos necessários para fazer uma tupla de seleção do mesmo comprimento que x.ndim. Pode haver apenas uma única reticência presente."
   ]
  },
  {
   "cell_type": "code",
   "execution_count": 85,
   "id": "2db13850-76a7-43d5-a6aa-d16451b2d77f",
   "metadata": {
    "tags": []
   },
   "outputs": [
    {
     "data": {
      "text/plain": [
       "array(5)"
      ]
     },
     "execution_count": 85,
     "metadata": {},
     "output_type": "execute_result"
    }
   ],
   "source": [
    "x[...,0]"
   ]
  },
  {
   "cell_type": "code",
   "execution_count": 108,
   "id": "531b2648-6219-462f-9bea-622f8e714701",
   "metadata": {
    "tags": []
   },
   "outputs": [
    {
     "name": "stdout",
     "output_type": "stream",
     "text": [
      "Array a: \n",
      "[[ 5  6  7  8]\n",
      " [ 1  2  3  4]\n",
      " [ 9 10 11 12]]\n"
     ]
    }
   ],
   "source": [
    "# Create a rank 2 array with shape (3, 4)\n",
    "a = np.array([[5, 6, 7, 8], [1, 2, 3, 4], [9, 10, 11, 12] ])\n",
    "print(f\"Array a: \\n{a}\")"
   ]
  },
  {
   "cell_type": "markdown",
   "id": "869976d4-4c52-41de-9f8a-5f394e154d9a",
   "metadata": {
    "tags": []
   },
   "source": [
    "Use fatiamento para extrair a sub matriz que consiste nas primeiras 2 linhas # e nas colunas 1 e 2; b é a seguinte matriz de formas (2, 2): \n",
    "```\n",
    "[2 3] \n",
    "[6 7]]\n",
    "```"
   ]
  },
  {
   "cell_type": "code",
   "execution_count": 109,
   "id": "3cb63e30-6875-416e-a965-effb566c9ce1",
   "metadata": {
    "tags": []
   },
   "outputs": [
    {
     "name": "stdout",
     "output_type": "stream",
     "text": [
      "[[6 7]\n",
      " [2 3]]\n"
     ]
    }
   ],
   "source": [
    "b = a[:2,1:3]\n",
    "print(b)"
   ]
  },
  {
   "cell_type": "markdown",
   "id": "ef9755ea-5356-48e3-9f6e-9b9dee7c26a4",
   "metadata": {},
   "source": [
    "Uma fatia de uma matriz é uma visão nos mesmos dados, portanto, modificá-la modificará a matriz original."
   ]
  },
  {
   "cell_type": "code",
   "execution_count": 111,
   "id": "4e853041-58e9-46ff-b37e-78d08dc0cab2",
   "metadata": {
    "tags": []
   },
   "outputs": [
    {
     "name": "stdout",
     "output_type": "stream",
     "text": [
      "6\n",
      "77\n"
     ]
    }
   ],
   "source": [
    "print(a[0,1])   #  6\n",
    "b[0,0] = 77\n",
    "print(b[0,0])"
   ]
  },
  {
   "cell_type": "markdown",
   "id": "3e0615f0-ba8c-4fa8-9f1a-8a5161d7e252",
   "metadata": {},
   "source": [
    "A matriz de linhas do meio pode ser acessada de duas maneiras.\n",
    "1) Fatias, juntamente com a indexação inteira, resultarão em um array de classificação mais baixa. \n",
    "2) Usar apenas fatias resultará na mesma matriz de classificação."
   ]
  },
  {
   "cell_type": "code",
   "execution_count": 120,
   "id": "0994aad5-b404-48fc-89a7-c3339dca17ab",
   "metadata": {
    "tags": []
   },
   "outputs": [
    {
     "name": "stdout",
     "output_type": "stream",
     "text": [
      "[1 2 3 4], (4,)\n",
      "[[1 2 3 4]], (1, 4)\n"
     ]
    }
   ],
   "source": [
    "row_r1 = a[1,:] # Rank 1 da segunda linha de um\n",
    "row_r2 = a[1:2] # Rank 2 da segunda fileira de um\n",
    "print(f\"{row_r1}, {row_r1.shape}\") # Prints \"[5 6 7 8] (4,)\"\n",
    "print(f\"{row_r2}, {row_r2.shape}\") # Prints \"[5 6 7 8] (1,4)\""
   ]
  },
  {
   "cell_type": "markdown",
   "id": "f2f3ee5d-96f9-4dd1-b196-6ad17077c370",
   "metadata": {},
   "source": [
    "Podemos fazer a mesma distinção ao acessar colunas de uma matriz:"
   ]
  },
  {
   "cell_type": "code",
   "execution_count": 135,
   "id": "bc62cd20-deb4-4832-9ef4-542d351dd51e",
   "metadata": {
    "tags": []
   },
   "outputs": [
    {
     "name": "stdout",
     "output_type": "stream",
     "text": [
      "[77  2 10], (3,)\n",
      "\n",
      "[[77]\n",
      " [ 2]\n",
      " [10]], (3, 1)\n"
     ]
    }
   ],
   "source": [
    "col_r1 = a[:,1]\n",
    "col_r2 = a[:,1:2]\n",
    "print(f\"{col_r1}, {col_r1.shape}\")\n",
    "print(f\"\\n{col_r2}, {col_r2.shape}\")"
   ]
  },
  {
   "cell_type": "code",
   "execution_count": 132,
   "id": "b1b32d8d-09fd-407a-995c-f7993e993153",
   "metadata": {
    "tags": []
   },
   "outputs": [
    {
     "data": {
      "text/plain": [
       "array([[ 5, 77,  7,  8],\n",
       "       [ 1,  2,  3,  4],\n",
       "       [ 9, 10, 11, 12]])"
      ]
     },
     "execution_count": 132,
     "metadata": {},
     "output_type": "execute_result"
    }
   ],
   "source": [
    "a"
   ]
  },
  {
   "cell_type": "code",
   "execution_count": null,
   "id": "c2054342-1486-44ee-8285-65741d5d9179",
   "metadata": {},
   "outputs": [],
   "source": []
  }
 ],
 "metadata": {
  "kernelspec": {
   "display_name": "Python 3 (ipykernel)",
   "language": "python",
   "name": "python3"
  },
  "language_info": {
   "codemirror_mode": {
    "name": "ipython",
    "version": 3
   },
   "file_extension": ".py",
   "mimetype": "text/x-python",
   "name": "python",
   "nbconvert_exporter": "python",
   "pygments_lexer": "ipython3",
   "version": "3.10.12"
  }
 },
 "nbformat": 4,
 "nbformat_minor": 5
}
